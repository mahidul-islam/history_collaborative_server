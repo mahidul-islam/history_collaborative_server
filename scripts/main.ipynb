{
 "cells": [
  {
   "attachments": {},
   "cell_type": "markdown",
   "metadata": {},
   "source": [
    "### Import libraries"
   ]
  },
  {
   "cell_type": "code",
   "execution_count": 2,
   "metadata": {},
   "outputs": [],
   "source": [
    "import wget\n",
    "import json\n",
    "import os\n",
    "import pandas as pd"
   ]
  },
  {
   "attachments": {},
   "cell_type": "markdown",
   "metadata": {},
   "source": [
    "### Download Google Sheet as CSV\n"
   ]
  },
  {
   "cell_type": "code",
   "execution_count": 3,
   "metadata": {},
   "outputs": [],
   "source": [
    "url = \"https://docs.google.com/spreadsheets/d/1JfsnrF0RbLuTF7bfIBx2lVT4ReJtJtEfTNrc_FesDdY/gviz/tq?tqx=out:csv\"\n",
    "filename = wget.download(url)"
   ]
  },
  {
   "attachments": {},
   "cell_type": "markdown",
   "metadata": {},
   "source": [
    "### Read CSV into Pandas DataFrame\n"
   ]
  },
  {
   "cell_type": "code",
   "execution_count": 4,
   "metadata": {},
   "outputs": [],
   "source": [
    "\n",
    "df = pd.read_csv('data.csv')"
   ]
  },
  {
   "attachments": {},
   "cell_type": "markdown",
   "metadata": {},
   "source": [
    "### Convert DataFrame to Dictionary "
   ]
  },
  {
   "cell_type": "code",
   "execution_count": 5,
   "metadata": {},
   "outputs": [],
   "source": [
    "def check_valid_value(value):\n",
    "    if str(value) == 'nan':\n",
    "        return None\n",
    "    return value\n",
    "\n",
    "\n",
    "json_data = []\n",
    "for index, row in df.iterrows():\n",
    "    data_dict = {\n",
    "        'name': check_valid_value(row['name']),\n",
    "        'start': check_valid_value(row['start']),\n",
    "        'end': check_valid_value(row['end']),\n",
    "        'article': check_valid_value(row['article']),\n",
    "    }\n",
    "    json_data.append(data_dict)\n"
   ]
  },
  {
   "attachments": {},
   "cell_type": "markdown",
   "metadata": {},
   "source": [
    "### Create JSON file from Dictionary"
   ]
  },
  {
   "cell_type": "code",
   "execution_count": 6,
   "metadata": {},
   "outputs": [
    {
     "name": "stdout",
     "output_type": "stream",
     "text": [
      "New JSON File Create Done!\n"
     ]
    }
   ],
   "source": [
    "with open('data.json', 'w') as outfile:\n",
    "    json.dump(json_data, outfile, indent=3, sort_keys=True, ensure_ascii=False)\n",
    "\n",
    "print('New JSON File Create Done!')"
   ]
  },
  {
   "attachments": {},
   "cell_type": "markdown",
   "metadata": {},
   "source": [
    "### Delete the csv file"
   ]
  },
  {
   "cell_type": "code",
   "execution_count": 7,
   "metadata": {},
   "outputs": [],
   "source": [
    "os.remove('data.csv')"
   ]
  }
 ],
 "metadata": {
  "kernelspec": {
   "display_name": "venv",
   "language": "python",
   "name": "python3"
  },
  "language_info": {
   "codemirror_mode": {
    "name": "ipython",
    "version": 3
   },
   "file_extension": ".py",
   "mimetype": "text/x-python",
   "name": "python",
   "nbconvert_exporter": "python",
   "pygments_lexer": "ipython3",
   "version": "3.8.16"
  },
  "orig_nbformat": 4,
  "vscode": {
   "interpreter": {
    "hash": "0312d87ba0458382add898b0c57abe16cf62a43242cb676d99928a218168c1da"
   }
  }
 },
 "nbformat": 4,
 "nbformat_minor": 2
}
