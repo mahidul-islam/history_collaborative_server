{
 "cells": [
  {
   "attachments": {},
   "cell_type": "markdown",
   "metadata": {},
   "source": [
    "### Import libraries"
   ]
  },
  {
   "cell_type": "code",
   "execution_count": 30,
   "metadata": {},
   "outputs": [],
   "source": [
    "import wget\n",
    "import json\n",
    "import os\n",
    "import pandas as pd"
   ]
  },
  {
   "attachments": {},
   "cell_type": "markdown",
   "metadata": {},
   "source": [
    "### Download Google Sheet as CSV\n"
   ]
  },
  {
   "cell_type": "code",
   "execution_count": 31,
   "metadata": {},
   "outputs": [],
   "source": [
    "url = \"https://docs.google.com/spreadsheets/d/1JfsnrF0RbLuTF7bfIBx2lVT4ReJtJtEfTNrc_FesDdY/gviz/tq?tqx=out:csv\"\n",
    "filename = wget.download(url)"
   ]
  },
  {
   "attachments": {},
   "cell_type": "markdown",
   "metadata": {},
   "source": [
    "### Read CSV into Pandas DataFrame\n"
   ]
  },
  {
   "cell_type": "code",
   "execution_count": 32,
   "metadata": {},
   "outputs": [],
   "source": [
    "df = pd.read_csv('data.csv')"
   ]
  },
  {
   "attachments": {},
   "cell_type": "markdown",
   "metadata": {},
   "source": [
    "### Convert DataFrame to Dictionary "
   ]
  },
  {
   "cell_type": "code",
   "execution_count": 33,
   "metadata": {},
   "outputs": [],
   "source": [
    "def check_valid_value(value):\n",
    "    if str(value) == 'nan':\n",
    "        return None\n",
    "    return value\n",
    "\n",
    "json_data = []\n",
    "for index, row in df.iterrows():\n",
    "    data_dict = {\n",
    "        'name': check_valid_value(row['name']),\n",
    "        'article': check_valid_value(row['article'])\n",
    "    }\n",
    "    if check_valid_value(row['date']):\n",
    "        data_dict.update(\n",
    "            {\n",
    "                'date': check_valid_value(row['date'])\n",
    "            }\n",
    "        )\n",
    "    else:\n",
    "        data_dict.update(\n",
    "            {\n",
    "                'start': check_valid_value(row['start']),\n",
    "                'end': check_valid_value(row['end'])\n",
    "            }\n",
    "        )\n",
    "    if check_valid_value(row['asset']):\n",
    "        data_dict.update(\n",
    "            {\n",
    "                'asset': {\n",
    "                    'source': check_valid_value(row['asset']),\n",
    "                    'height': check_valid_value(row['height']),\n",
    "                    'width': check_valid_value(row['width'])\n",
    "                }\n",
    "            }\n",
    "        )\n",
    "    json_data.append(data_dict)"
   ]
  },
  {
   "attachments": {},
   "cell_type": "markdown",
   "metadata": {},
   "source": [
    "### Create JSON file from Dictionary"
   ]
  },
  {
   "cell_type": "code",
   "execution_count": 34,
   "metadata": {},
   "outputs": [
    {
     "name": "stdout",
     "output_type": "stream",
     "text": [
      "New JSON File Create Done!\n"
     ]
    }
   ],
   "source": [
    "with open('data.json', 'w') as outfile:\n",
    "    json.dump(json_data, outfile, indent=3, sort_keys=True, ensure_ascii=False)\n",
    "print('New JSON File Create Done!')"
   ]
  },
  {
   "attachments": {},
   "cell_type": "markdown",
   "metadata": {},
   "source": [
    "### Delete the csv file"
   ]
  },
  {
   "cell_type": "code",
   "execution_count": 35,
   "metadata": {},
   "outputs": [],
   "source": [
    "os.remove('data.csv')\n"
   ]
  }
 ],
 "metadata": {
  "kernelspec": {
   "display_name": "myenv",
   "language": "python",
   "name": "python3"
  },
  "language_info": {
   "codemirror_mode": {
    "name": "ipython",
    "version": 3
   },
   "file_extension": ".py",
   "mimetype": "text/x-python",
   "name": "python",
   "nbconvert_exporter": "python",
   "pygments_lexer": "ipython3",
   "version": "3.9.6"
  },
  "orig_nbformat": 4,
  "vscode": {
   "interpreter": {
    "hash": "3c7aa44b9ca704101ae1918548fa162a548942426d1c68956bb9bc200c12884e"
   }
  }
 },
 "nbformat": 4,
 "nbformat_minor": 2
}
