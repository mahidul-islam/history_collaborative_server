{
   "cells": [
      {
         "attachments": {},
         "cell_type": "markdown",
         "metadata": {},
         "source": [
            "### Import libraries"
         ]
      },
      {
         "cell_type": "code",
         "execution_count": 1,
         "metadata": {},
         "outputs": [],
         "source": [
            "import wget\n",
            "import json\n",
            "import os\n",
            "import pandas as pd"
         ]
      },
      {
         "attachments": {},
         "cell_type": "markdown",
         "metadata": {},
         "source": [
            "### Download Google Sheet as CSV\n"
         ]
      },
      {
         "cell_type": "code",
         "execution_count": 2,
         "metadata": {},
         "outputs": [],
         "source": [
            "url = \"https://docs.google.com/spreadsheets/d/1JfsnrF0RbLuTF7bfIBx2lVT4ReJtJtEfTNrc_FesDdY/gviz/tq?tqx=out:csv\"\n",
            "filename = wget.download(url)"
         ]
      },
      {
         "attachments": {},
         "cell_type": "markdown",
         "metadata": {},
         "source": [
            "### Read CSV into Pandas DataFrame\n"
         ]
      },
      {
         "cell_type": "code",
         "execution_count": 3,
         "metadata": {},
         "outputs": [],
         "source": [
            "df = pd.read_csv('data.csv')"
         ]
      },
      {
         "attachments": {},
         "cell_type": "markdown",
         "metadata": {},
         "source": [
            "### Convert DataFrame to Dictionary "
         ]
      },
      {
         "cell_type": "code",
         "execution_count": 4,
         "metadata": {},
         "outputs": [],
         "source": [
            "def check_valid_value(value):\n",
            "    \"\"\" if value is \"NaN\" then return None\"\"\"\n",
            "    if str(value) == \"nan\":\n",
            "        return None\n",
            "    return value\n",
            "\n",
            "\n",
            "json_data = []\n",
            "for index, row in df.iterrows():\n",
            "    data_dict = {\n",
            "        \"name\": check_valid_value(row[\"name\"]),\n",
            "        \"article\": check_valid_value(row[\"article\"]),\n",
            "    }\n",
            "\n",
            "    ## if \"date\" available then use date otherwise use \"start\" & \"end\"\n",
            "    if check_valid_value(row[\"date\"]):\n",
            "        data_dict.update({\"date\": check_valid_value(row[\"date\"])})\n",
            "    else:\n",
            "        data_dict.update(\n",
            "            {\n",
            "                \"start\": check_valid_value(row[\"start\"]),\n",
            "                \"end\": check_valid_value(row[\"end\"]),\n",
            "            }\n",
            "        )\n",
            "\n",
            "    # if \"asset\" available then use it with \"height\" and \"width\"\n",
            "    if check_valid_value(row[\"asset\"]):\n",
            "        data_dict.update(\n",
            "            {\n",
            "                \"asset\": {\n",
            "                    \"source\": check_valid_value(row[\"asset\"]),\n",
            "                    \"height\": check_valid_value(row[\"height\"]),\n",
            "                    \"width\": check_valid_value(row[\"width\"]),\n",
            "                }\n",
            "            }\n",
            "        )\n",
            "    json_data.append(data_dict)\n"
         ]
      },
      {
         "attachments": {},
         "cell_type": "markdown",
         "metadata": {},
         "source": [
            "### Create JSON file from Dictionary"
         ]
      },
      {
         "cell_type": "code",
         "execution_count": 5,
         "metadata": {},
         "outputs": [
            {
               "name": "stdout",
               "output_type": "stream",
               "text": [
                  "New JSON File Create Done!\n"
               ]
            }
         ],
         "source": [
            "with open('data.json', 'w') as outfile:\n",
            "    json.dump(json_data, outfile, indent=3, sort_keys=True, ensure_ascii=False)\n",
            "print('New JSON File Create Done!')"
         ]
      },
      {
         "attachments": {},
         "cell_type": "markdown",
         "metadata": {},
         "source": [
            "### Delete the csv file"
         ]
      },
      {
         "cell_type": "code",
         "execution_count": 6,
         "metadata": {},
         "outputs": [],
         "source": [
            "os.remove('data.csv')\n"
         ]
      }
   ],
   "metadata": {
      "kernelspec": {
         "display_name": "Python 3",
         "language": "python",
         "name": "python3"
      },
      "language_info": {
         "codemirror_mode": {
            "name": "ipython",
            "version": 3
         },
         "file_extension": ".py",
         "mimetype": "text/x-python",
         "name": "python",
         "nbconvert_exporter": "python",
         "pygments_lexer": "ipython3",
         "version": "3.8.16"
      },
      "orig_nbformat": 4,
      "vscode": {
         "interpreter": {
            "hash": "31f2aee4e71d21fbe5cf8b01ff0e069b9275f58929596ceb00d14d90e3e16cd6"
         }
      }
   },
   "nbformat": 4,
   "nbformat_minor": 2
}